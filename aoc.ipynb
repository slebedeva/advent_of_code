{
 "cells": [
  {
   "cell_type": "markdown",
   "metadata": {},
   "source": [
    "# advent of code\n",
    "\n",
    "https://adventofcode.com/settings\n",
    "\n",
    "(login with github)\n",
    "\n",
    "running with lewagon envtry finding cookie by going to developer tools > storage\n",
    "\n",
    "to download input via request need cookies!\n",
    "\n",
    "try finding cookie by going to developer tools > storage\n",
    "\n",
    "session:\"53616c7465645f5f0d9c485692603b4bf39627d657a461b73296c03ea325a9d793cf86d14e1e4c575ad96e8f53ebf8965a3fa1b9b44a87cb4102ed29f5b64e0c\"\n",
    "\n",
    "apparently they are stored in sqlite file in Profile folder (/home/svetlana/snap/firefox/common/.mozilla/firefox/1p0df6c0.default/)"
   ]
  },
  {
   "cell_type": "code",
   "execution_count": 3,
   "metadata": {},
   "outputs": [],
   "source": [
    "import time\n",
    "import numpy as np\n",
    "import pandas as pd\n",
    "\n",
    "import matplotlib.pyplot as plt"
   ]
  },
  {
   "cell_type": "markdown",
   "metadata": {},
   "source": [
    "### day 1\n",
    "\n",
    "Task sum of two-digit numbers in each line which are first and last digit \n",
    "\n",
    "If only one digit, then double it (99 for the first)\n",
    "\n",
    "Ideally I would use np.vectorize on extraction function and an array of type object"
   ]
  },
  {
   "cell_type": "code",
   "execution_count": 4,
   "metadata": {},
   "outputs": [],
   "source": [
    "# 1\n",
    "with open('input_01', 'r') as f:\n",
    "    #print(f.readlines()) #this will keep \\n\n",
    "    mylist = f.read().splitlines() # no \\n"
   ]
  },
  {
   "cell_type": "code",
   "execution_count": 24,
   "metadata": {},
   "outputs": [
    {
     "name": "stdout",
     "output_type": "stream",
     "text": [
      "CPU times: user 9 µs, sys: 2 µs, total: 11 µs\n",
      "Wall time: 17.4 µs\n"
     ]
    }
   ],
   "source": [
    "%time\n",
    "# brute force (list of lists, nested for loop = bad!)\n",
    "def get_sum_day1(list_of_strings):\n",
    "    num_list = []\n",
    "    for line in list_of_strings:\n",
    "        num=[d for d in line if d.isdigit()]\n",
    "        num_list.append(int(num[0]+num[-1]))\n",
    "    return num_list"
   ]
  },
  {
   "cell_type": "code",
   "execution_count": 25,
   "metadata": {},
   "outputs": [
    {
     "data": {
      "text/plain": [
       "53921"
      ]
     },
     "execution_count": 25,
     "metadata": {},
     "output_type": "execute_result"
    }
   ],
   "source": [
    "np.sum(get_sum_day1(mylist))"
   ]
  },
  {
   "cell_type": "markdown",
   "metadata": {},
   "source": [
    "Now we need to also get spelled out numbers like two, three, ...\n",
    "\n",
    "There is python lib num2words (it even has ordinals) but by simply Ctrl F I conclude that my input only has one to nine."
   ]
  },
  {
   "cell_type": "code",
   "execution_count": 26,
   "metadata": {},
   "outputs": [],
   "source": [
    "# now need for dictionary replacement\n",
    "word2num = {\n",
    "     'one':'1'\n",
    "    ,'two':'2'\n",
    "    ,'three':'3'\n",
    "    ,'four':'4'\n",
    "    ,'five':'5'\n",
    "    ,'six':'6'\n",
    "    ,'seven':'7'\n",
    "    ,'eight':'8'\n",
    "    ,'nine':'9'\n",
    "}"
   ]
  },
  {
   "cell_type": "code",
   "execution_count": 30,
   "metadata": {},
   "outputs": [],
   "source": [
    "#mylist[0].translate(word2num)\n",
    "# brute force 2\n",
    "mylist2 = [d.replace(word,num) for word, num in word2num.items() for d in mylist]\n"
   ]
  },
  {
   "cell_type": "code",
   "execution_count": 32,
   "metadata": {},
   "outputs": [
    {
     "data": {
      "text/plain": [
       "485079"
      ]
     },
     "execution_count": 32,
     "metadata": {},
     "output_type": "execute_result"
    }
   ],
   "source": [
    "np.sum(get_sum_day1(mylist2)) #485079 is too high though..."
   ]
  },
  {
   "cell_type": "markdown",
   "metadata": {},
   "source": [
    "check https://www.reddit.com/r/adventofcode/ for hints:\n",
    "\n",
    "apparently the words can overlap! 'twone' should give 21...."
   ]
  },
  {
   "cell_type": "code",
   "execution_count": 72,
   "metadata": {},
   "outputs": [
    {
     "name": "stdout",
     "output_type": "stream",
     "text": [
      "<re.Match object; span=(0, 0), match=''>\n",
      "<re.Match object; span=(2, 2), match=''>\n"
     ]
    }
   ],
   "source": [
    "import re\n",
    "matches = re.finditer('(?=two)|(?=one)','twone')\n",
    "for match in matches:\n",
    "    print( match)"
   ]
  },
  {
   "cell_type": "markdown",
   "metadata": {},
   "source": [
    "### day 2\n",
    "\n",
    "Determine which games would have been possible if the bag had been loaded with only 12 red cubes, 13 green cubes, and 14 blue cubes. What is the sum of the IDs of those games?\n",
    "\n"
   ]
  },
  {
   "cell_type": "code",
   "execution_count": 2,
   "metadata": {},
   "outputs": [],
   "source": [
    "with open('input_02', 'r') as f:\n",
    "    str_list = f.read().splitlines()"
   ]
  },
  {
   "cell_type": "code",
   "execution_count": 3,
   "metadata": {},
   "outputs": [
    {
     "data": {
      "text/plain": [
       "'Game 1: 4 red, 8 green; 8 green, 6 red; 13 red, 8 green; 2 blue, 4 red, 4 green'"
      ]
     },
     "execution_count": 3,
     "metadata": {},
     "output_type": "execute_result"
    }
   ],
   "source": [
    "str_list[0]"
   ]
  },
  {
   "cell_type": "code",
   "execution_count": 21,
   "metadata": {},
   "outputs": [],
   "source": [
    "# store ids which are valid\n",
    "game_ids = []\n",
    "\n",
    "# store constraints\n",
    "constraints = {'red':12, 'green':13, 'blue':14}\n",
    "\n",
    "def check_draw(draw, constraints=constraints):\n",
    "    \"\"\"\n",
    "    take draw as string and optional constraint dict\n",
    "    check against constraint if draw is valid or not\n",
    "    return bool\n",
    "    \"\"\"\n",
    "    # make a dict color:number for the draw\n",
    "    draw_dic = {col.split()[1]:int(col.split()[0]) for col in draw.split(', ')}\n",
    "    # compare to constraint\n",
    "    valid = all([draw_dic[k] <= constraints[k] for k in draw_dic.keys()])\n",
    "    return valid\n",
    "\n",
    "# loop over games\n",
    "for game_str in str_list:\n",
    "    id, game = game_str.split(': ')\n",
    "    #convert id to int\n",
    "    id = int(id.strip('Game '))\n",
    "    #split game inot draws\n",
    "    draws = game.split('; ')\n",
    "    # store game id only if all draws are valid\n",
    "    if all([check_draw(draw) for draw in draws]):\n",
    "        game_ids.append(id)"
   ]
  },
  {
   "cell_type": "code",
   "execution_count": 24,
   "metadata": {},
   "outputs": [
    {
     "data": {
      "text/plain": [
       "3099"
      ]
     },
     "execution_count": 24,
     "metadata": {},
     "output_type": "execute_result"
    }
   ],
   "source": [
    "np.sum(game_ids) #answer"
   ]
  },
  {
   "cell_type": "markdown",
   "metadata": {},
   "source": [
    "### day 4\n",
    "\n",
    "each card has winning numbers | numbers you have\n",
    "\n",
    "for matching each winning number you get 2^n points with n=0 for first etc."
   ]
  },
  {
   "cell_type": "code",
   "execution_count": 1,
   "metadata": {},
   "outputs": [],
   "source": [
    "with open('input_04','r') as f:\n",
    "    cards = f.read().splitlines()"
   ]
  },
  {
   "cell_type": "code",
   "execution_count": 17,
   "metadata": {},
   "outputs": [],
   "source": [
    "# list of powers of 2 which each card will be worth (minus 1 since 2^0=1)\n",
    "powers = []\n",
    "for card in cards:\n",
    "    winning_num=card.split(': ')[1].split(' | ')[0].split()\n",
    "    my_num=card.split(': ')[1].split(' | ')[1].split()\n",
    "    power = len([num for num in my_num if num in winning_num])\n",
    "    if power > 0:\n",
    "        powers.append(power)"
   ]
  },
  {
   "cell_type": "code",
   "execution_count": 25,
   "metadata": {},
   "outputs": [
    {
     "data": {
      "text/plain": [
       "24542"
      ]
     },
     "execution_count": 25,
     "metadata": {},
     "output_type": "execute_result"
    }
   ],
   "source": [
    "np.sum(2**((np.array(powers)-1))) #answer"
   ]
  },
  {
   "cell_type": "markdown",
   "metadata": {},
   "source": [
    "### day 6\n",
    "\n",
    "boat races: you charge for specific amount of time and it allows you to travel with different speeds\n",
    "\n",
    "1ms charging adds 1mm/ms speed\n",
    "\n",
    "task: for each race, how many ways to beat current record are there? then multiply for answer."
   ]
  },
  {
   "cell_type": "code",
   "execution_count": 36,
   "metadata": {},
   "outputs": [],
   "source": [
    "Time=[58,     81,     96,     76]\n",
    "Distance=[434,   1041,   2219,   1218]"
   ]
  },
  {
   "cell_type": "code",
   "execution_count": 37,
   "metadata": {},
   "outputs": [],
   "source": [
    "# we just need a formula and plot it\n",
    "# speed = charge_time\n",
    "# time_to_travel = Time-charge_time\n",
    "# distance_traveled = time_to_travel*speed = time_to_travel*charge_time=(Time-charge_time)*charge_time = Time*charge_time - charge_time**2\n",
    "\n",
    "num_of_ways = []\n",
    "\n",
    "for Time, Distance in zip(Time, Distance):\n",
    "    distance_traveled = []\n",
    "    # for all times to charge from 0 to max time\n",
    "    for i in range(Time):\n",
    "        distance_traveled.append((Time-i)*i)\n",
    "    num_of_ways.append(np.sum(np.array(distance_traveled)>Distance))"
   ]
  },
  {
   "cell_type": "code",
   "execution_count": 40,
   "metadata": {},
   "outputs": [
    {
     "data": {
      "text/plain": [
       "1159152"
      ]
     },
     "execution_count": 40,
     "metadata": {},
     "output_type": "execute_result"
    }
   ],
   "source": [
    "np.prod(np.array(num_of_ways)) #answer"
   ]
  },
  {
   "cell_type": "markdown",
   "metadata": {},
   "source": [
    "### day 7\n",
    "\n",
    "need to rank card hands byspecific rules then multiply their bid by rank\n"
   ]
  },
  {
   "cell_type": "code",
   "execution_count": 4,
   "metadata": {},
   "outputs": [
    {
     "name": "stdout",
     "output_type": "stream",
     "text": [
      "<class 'pandas.core.frame.DataFrame'>\n",
      "RangeIndex: 1000 entries, 0 to 999\n",
      "Data columns (total 2 columns):\n",
      " #   Column  Non-Null Count  Dtype \n",
      "---  ------  --------------  ----- \n",
      " 0   0       1000 non-null   object\n",
      " 1   1       1000 non-null   int64 \n",
      "dtypes: int64(1), object(1)\n",
      "memory usage: 15.8+ KB\n"
     ]
    }
   ],
   "source": [
    "cards = pd.read_csv('input_07', sep=' ', header=None)\n",
    "cards.info()"
   ]
  },
  {
   "cell_type": "code",
   "execution_count": 7,
   "metadata": {},
   "outputs": [],
   "source": [
    "# create rules for ranking\n",
    "\n",
    "#len(set(list('AAAAA'))) # always remember: nunique() of a list is a set!\n",
    "\n",
    "# this is like a custom sorting rule\n",
    "# need: 1) custom sort (see chatGPT for assigning weights to cards)\n",
    "# need: 2) classifier wrapping this up\n",
    "# first order by class, within class by card weight\n",
    "\n",
    "##### function to sort into class ######\n",
    "\n",
    "from collections import Counter\n",
    "\n",
    "# classes - assign them a number already - we have 7\n",
    "def classify_hand(hand: str):\n",
    "    \"\"\"\n",
    "    This function will determine relative weights of hands\n",
    "    \"\"\"\n",
    "    # how many unique types?\n",
    "    #cardinality = len(set(list(hand)))\n",
    "    counts = Counter(list(hand))\n",
    "\n",
    "    # highest: rank 7 (all cards same)\n",
    "    #if cardinality==1:\n",
    "    if 5 in counts.values():\n",
    "        rank = 7\n",
    "\n",
    "    # if we have 2 kinds of cards:\n",
    "        # if 4 are same (4 of a kind)\n",
    "    elif 4 in counts.values(): #cardinality==2:\n",
    "        rank = 6\n",
    "        # if 3 are same (full house)\n",
    "    elif all(val in counts.values() for val in (2,3)):\n",
    "        rank = 5\n",
    "\n",
    "    # if we have 3 kinds of cards:\n",
    "        # if 3 are the same (3 of a kind)\n",
    "    elif 3 in counts.values():\n",
    "        rank = 4\n",
    "        # if there are 2 pairs\n",
    "    elif list(counts.values()).count(2)==2:\n",
    "        rank = 3\n",
    "\n",
    "    # if we have 4 kinds it is basically always 1 pair right?\n",
    "    elif list(counts.values()).count(2)==1:\n",
    "        rank = 2\n",
    "\n",
    "    # if we have 5 kinds\n",
    "    elif list(counts.values())==[1]*5:\n",
    "        rank = 1\n",
    "    return rank"
   ]
  },
  {
   "cell_type": "code",
   "execution_count": 8,
   "metadata": {},
   "outputs": [],
   "source": [
    "####### function to sort by card weight #######\n",
    "\n",
    "# this is our custom card sorter from GPT\n",
    "# this only works for single-character strings :(\n",
    "\n",
    "def custom_card_sort(card):\n",
    "    order = ('A', 'K', 'Q', 'J', 'T', '9', '8', '7', '6', '5', '4', '3', '2')  # Define the order of the cards\n",
    "    # Assign weights based on the order\n",
    "    rule = {card: weight for weight, card in enumerate(order)}\n",
    "    return rule.get(card)\n",
    "\n",
    "\n",
    "# https://stackoverflow.com/questions/52475458/how-to-sort-pandas-dataframe-with-a-key\n",
    "# do it vectorized instead!\n",
    "# must take series and return series\n",
    "\n",
    "def custom_card_sort_pd(series):\n",
    "    order = ('A', 'K', 'Q', 'J', 'T', '9', '8', '7', '6', '5', '4', '3', '2')  # Define the order of the cards\n",
    "    # Assign weights based on the order\n",
    "    rule = {card: weight for weight, card in enumerate(order)}\n",
    "    return series.apply(lambda x: rule.get(x)) # Return the weight for the card\n"
   ]
  },
  {
   "cell_type": "code",
   "execution_count": 26,
   "metadata": {},
   "outputs": [],
   "source": [
    "# idea: convert cards into tuples mapping their value! then sort df by those (grouped by our group/class).\n",
    "# we can actually sort tuples even of different length  :)\n",
    "#sorted([(5,), (4,1), (3,2), (1,1,1,1,1), (2,3)])\n",
    "\n",
    "def make_tuple(hand: str):\n",
    "    \"\"\"\n",
    "    Converts a hand into a tuple of respective rank values\n",
    "    \"\"\"\n",
    "    order = ('A', 'K', 'Q', 'J', 'T', '9', '8', '7', '6', '5', '4', '3', '2')  # Define the order of the cards\n",
    "    rule = {card: weight+1 for weight, card in enumerate(order[::-1])}\n",
    "\n",
    "    return tuple(rule.get(card) for card in list(hand))"
   ]
  },
  {
   "cell_type": "code",
   "execution_count": 38,
   "metadata": {},
   "outputs": [
    {
     "data": {
      "text/plain": [
       "251927063"
      ]
     },
     "execution_count": 38,
     "metadata": {},
     "output_type": "execute_result"
    }
   ],
   "source": [
    "# answer - multiply bid by rank and sum up\n",
    "(cards\n",
    " .assign(class_ = lambda x : x[0].map(classify_hand)\n",
    "             , rank_ = lambda x : x[0].map(make_tuple))\n",
    " .sort_values(by = ['class_', 'rank_'])\n",
    " .reset_index(drop=True)\n",
    " .assign(final_rank = lambda x : x.index +1,\n",
    "         final_value = lambda x: x[1]*x['final_rank'])\n",
    ")['final_value'].sum()"
   ]
  },
  {
   "cell_type": "code",
   "execution_count": 40,
   "metadata": {},
   "outputs": [],
   "source": [
    "#sorted(cards.head(10)[0].tolist(), key=custom_card_sort) #TypeError: '<' not supported between instances of 'NoneType' and 'NoneType'\n",
    "#sorted(['bnf','zfg', 'aaa'])\n",
    "# #!!! this key function should be vectorized\n",
    "## 'It should expect a Series and return a Series with the same shape as the input.\n",
    "# It will be applied to each column in by independently.'\n",
    "# https://stackoverflow.com/questions/52475458/how-to-sort-pandas-dataframe-with-a-key\n",
    "#cards.head(20).sort_values(by=0, key=custom_card_sort) # still not working maybe because there are 5th of cards"
   ]
  },
  {
   "cell_type": "markdown",
   "metadata": {},
   "source": [
    "#### OOP\n",
    "\n",
    "- use Think Python book and write class of card with methods from scratch\n",
    "- \"it is obvious what the attributes should be: rank and suit\"\n",
    "- \"use integers to encode the ranks and suits\"\n",
    "- \"we can override the behavior of the built-in operators by providing a method named `__cmp__`\"\n",
    "\n",
    "> __cmp__ takes two parameters, self and other, and returns a positive number if the first\n",
    "object is greater, a negative number if the second object is greater, and 0 if they are equal to\n",
    "each other.\n",
    "\n",
    "The book proceeds to create classes for Deck and Hand but they hold a list of cards.\n",
    "\n",
    "I guess for me the easier way at this point is to split the cards into the list or multiple series.\n"
   ]
  },
  {
   "cell_type": "code",
   "execution_count": 11,
   "metadata": {},
   "outputs": [],
   "source": [
    "class Card(object):\n",
    "    \"\"\" Represents a playing card\n",
    "        To simplify, I remove suit since this is not a part of Camel Card.\n",
    "    \"\"\"\n",
    "    def __init__(self, rank=0) -> None:\n",
    "        self.rank = rank\n",
    "\n",
    "    # provide rank as integer which is index of this list:\n",
    "    rank_names = ['2', '3', '4', '5', '6', '7', '8', '9', 'T', 'J', 'Q', 'K', 'A']\n",
    "\n",
    "    def __str__(self):\n",
    "        \"\"\" returns a string of card's rank\"\"\"\n",
    "        return rank_names[self.rank]\n",
    "\n",
    "    def __lt__(self, other):\n",
    "        ''' similar to cmp in py2 - compares rank'''\n",
    "        return self.rank < other.rank"
   ]
  },
  {
   "cell_type": "markdown",
   "metadata": {},
   "source": [
    "### day 12\n",
    "\n",
    "So, condition records with no unknown spring conditions might look like this:\n",
    "\n",
    "\n",
    "```\n",
    "#.#.### 1,1,3\n",
    ".#...#....###. 1,1,3\n",
    ".#.###.#.###### 1,3,1,6\n",
    "####.#...#... 4,1,1\n",
    "#....######..#####. 1,6,5\n",
    ".###.##....# 3,2,1\n",
    "```\n",
    "\n",
    "However, the condition records are partially damaged; some of the springs' conditions are actually unknown (?). For example:\n",
    "\n",
    "```\n",
    "???.### 1,1,3\n",
    ".??..??...?##. 1,1,3\n",
    "?#?#?#?#?#?#?#? 1,3,1,6\n",
    "????.#...#... 4,1,1\n",
    "????.######..#####. 1,6,5\n",
    "?###???????? 3,2,1\n",
    "```\n",
    "\n",
    "In this example, the number of possible arrangements for each row is:\n",
    "\n",
    "    ???.### 1,1,3 - 1 arrangement\n",
    "    .??..??...?##. 1,1,3 - 4 arrangements\n",
    "    ?#?#?#?#?#?#?#? 1,3,1,6 - 1 arrangement\n",
    "    ????.#...#... 4,1,1 - 1 arrangement\n",
    "    ????.######..#####. 1,6,5 - 4 arrangements\n",
    "    ?###???????? 3,2,1 - 10 arrangements\n",
    "\n",
    "Adding all of the possible arrangement counts together produces a total of 21 arrangements.\n",
    "\n",
    "For each row, count all of the different arrangements of operational and broken springs that meet the given criteria. What is the sum of those counts?\n",
    "\n"
   ]
  },
  {
   "cell_type": "code",
   "execution_count": 44,
   "metadata": {},
   "outputs": [
    {
     "data": {
      "text/html": [
       "<div>\n",
       "<style scoped>\n",
       "    .dataframe tbody tr th:only-of-type {\n",
       "        vertical-align: middle;\n",
       "    }\n",
       "\n",
       "    .dataframe tbody tr th {\n",
       "        vertical-align: top;\n",
       "    }\n",
       "\n",
       "    .dataframe thead th {\n",
       "        text-align: right;\n",
       "    }\n",
       "</style>\n",
       "<table border=\"1\" class=\"dataframe\">\n",
       "  <thead>\n",
       "    <tr style=\"text-align: right;\">\n",
       "      <th></th>\n",
       "      <th>0</th>\n",
       "      <th>1</th>\n",
       "    </tr>\n",
       "  </thead>\n",
       "  <tbody>\n",
       "    <tr>\n",
       "      <th>0</th>\n",
       "      <td>??????.??#.</td>\n",
       "      <td>2,3</td>\n",
       "    </tr>\n",
       "    <tr>\n",
       "      <th>1</th>\n",
       "      <td>??.?###?????????</td>\n",
       "      <td>2,4,4</td>\n",
       "    </tr>\n",
       "    <tr>\n",
       "      <th>2</th>\n",
       "      <td>?????????.??##?</td>\n",
       "      <td>1,2,1,1,5</td>\n",
       "    </tr>\n",
       "    <tr>\n",
       "      <th>3</th>\n",
       "      <td>?##?.????.?#?.?#?</td>\n",
       "      <td>3,1,1,2,2</td>\n",
       "    </tr>\n",
       "    <tr>\n",
       "      <th>4</th>\n",
       "      <td>?#?.#?##????</td>\n",
       "      <td>3,1,4</td>\n",
       "    </tr>\n",
       "  </tbody>\n",
       "</table>\n",
       "</div>"
      ],
      "text/plain": [
       "                   0          1\n",
       "0        ??????.??#.        2,3\n",
       "1   ??.?###?????????      2,4,4\n",
       "2    ?????????.??##?  1,2,1,1,5\n",
       "3  ?##?.????.?#?.?#?  3,1,1,2,2\n",
       "4       ?#?.#?##????      3,1,4"
      ]
     },
     "execution_count": 44,
     "metadata": {},
     "output_type": "execute_result"
    }
   ],
   "source": [
    "inp = pd.read_csv('input_12', sep=' ', header = None)\n",
    "inp.head()"
   ]
  },
  {
   "cell_type": "code",
   "execution_count": 122,
   "metadata": {},
   "outputs": [
    {
     "data": {
      "text/plain": [
       "0    object\n",
       "1    object\n",
       "dtype: object"
      ]
     },
     "execution_count": 122,
     "metadata": {},
     "output_type": "execute_result"
    }
   ],
   "source": [
    "inp.dtypes"
   ]
  },
  {
   "cell_type": "code",
   "execution_count": 138,
   "metadata": {},
   "outputs": [
    {
     "data": {
      "text/html": [
       "<div>\n",
       "<style scoped>\n",
       "    .dataframe tbody tr th:only-of-type {\n",
       "        vertical-align: middle;\n",
       "    }\n",
       "\n",
       "    .dataframe tbody tr th {\n",
       "        vertical-align: top;\n",
       "    }\n",
       "\n",
       "    .dataframe thead th {\n",
       "        text-align: right;\n",
       "    }\n",
       "</style>\n",
       "<table border=\"1\" class=\"dataframe\">\n",
       "  <thead>\n",
       "    <tr style=\"text-align: right;\">\n",
       "      <th></th>\n",
       "      <th>0</th>\n",
       "      <th>1</th>\n",
       "      <th>tuple</th>\n",
       "    </tr>\n",
       "  </thead>\n",
       "  <tbody>\n",
       "    <tr>\n",
       "      <th>0</th>\n",
       "      <td>??????.??#.</td>\n",
       "      <td>2,3</td>\n",
       "      <td>(2, 3)</td>\n",
       "    </tr>\n",
       "  </tbody>\n",
       "</table>\n",
       "</div>"
      ],
      "text/plain": [
       "             0    1   tuple\n",
       "0  ??????.??#.  2,3  (2, 3)"
      ]
     },
     "execution_count": 138,
     "metadata": {},
     "output_type": "execute_result"
    }
   ],
   "source": [
    "# convert string code field to tuple\n",
    "inp['tuple'] = inp[1].map(lambda x : tuple(int(num) for num in x.split(',')))\n",
    "inp.head(1)"
   ]
  },
  {
   "cell_type": "markdown",
   "metadata": {},
   "source": [
    "We need to:\n",
    "1. split the code by ',' - this will give us groups of consequitive brokens (#)\n",
    "2. *somehow* split the arrangement into corresponding groups \n",
    "3. combinatorics with possible combinaitons within those groups"
   ]
  },
  {
   "cell_type": "code",
   "execution_count": 61,
   "metadata": {},
   "outputs": [],
   "source": [
    "def nonempty_split(arr:str):\n",
    "    return [group for group in arr.split('.') if group] #without empty"
   ]
  },
  {
   "cell_type": "code",
   "execution_count": 57,
   "metadata": {},
   "outputs": [],
   "source": [
    "# df.apply(lambda x : make_possible_combinations(x[0], x[1]))\n",
    "\n",
    "#def make_possible_combinations(arr, code):\n",
    "    #group_sizes = code.split(',')\n",
    "    #n_groups = len(group_sizes)\n",
    "    # make groups in actual string\n",
    "    # imagine there were no '?'\n",
    "    # groups = arr.split('.')\n",
    "    # but see ex with 10!\n",
    "    #if '.' in arr:\n",
    "    #    groups = [group for group in arr.split('.') if group] #wihtout empty strings\n",
    "\n",
    "    # another way would be to get boolean mask on '?'\n",
    "    # and then treat this as masked string\n",
    "    # handle if all False (no ?) = 1 combination\n",
    "\n",
    "    # yet another way - try to mimic what my brain is doing\n",
    "    # first identify existing groups of #/? and match them with code\n",
    "    # then try to build up (if there are nearby ? and group too small, keep adding but combinatorially)\n",
    "    # problem is sometimes ..?.. will match 1, exactly and sometimes ..#?. is exactly 2 and ???.. can match 1,1\n",
    "    # so we need a clever pattern recognition strategy here\n",
    "    # so first thing we know for sure is that \\.+ matches , but only if # follows.. grrr\n",
    "    # and ? can match both # and . .. OK ..\n",
    "    # so we need a pseduo random brute force demasking + re.search with dynamic constraints ..\n",
    "    # basically translate code into re.compile I guess"
   ]
  },
  {
   "cell_type": "code",
   "execution_count": 95,
   "metadata": {},
   "outputs": [],
   "source": [
    "# imagine what fx was used to generate the code\n",
    "# and then to randomly mask some parts\n",
    "# and try to reverse those?\n",
    "# in the worst case brute force all combinations randomly\n",
    "\n",
    "def generate_code(arr):\n",
    "    return tuple((len(broken) for broken in nonempty_split(arr)))\n",
    "\n",
    "\n",
    "#def mask_string(arr):\n",
    "    #"
   ]
  },
  {
   "cell_type": "code",
   "execution_count": 96,
   "metadata": {},
   "outputs": [
    {
     "data": {
      "text/plain": [
       "(1, 2, 2, 3)"
      ]
     },
     "execution_count": 96,
     "metadata": {},
     "output_type": "execute_result"
    }
   ],
   "source": [
    "arr3 = '#...##.##....###'\n",
    "code3 = generate_code(arr3)\n",
    "code3\n"
   ]
  },
  {
   "cell_type": "code",
   "execution_count": 87,
   "metadata": {},
   "outputs": [],
   "source": [
    "import re\n",
    "#re.compile()\n",
    "# to put real curly braces you need to have double ones\n",
    "# to put something inside them use triple!\n",
    "# use code tuple to unpack list into format string regex\n"
   ]
  },
  {
   "cell_type": "code",
   "execution_count": 152,
   "metadata": {},
   "outputs": [],
   "source": [
    "# now we need to inject chars according to our regex, hmm\n",
    "# basically create all possible combinations of # and . inside given length and filter for match and count\n",
    "# this could be quite brute forced already... we have 1000 rows\n"
   ]
  },
  {
   "cell_type": "code",
   "execution_count": 247,
   "metadata": {},
   "outputs": [],
   "source": [
    "import itertools\n",
    "\n",
    "##### function of arr(arrangement):str, code: tuple\n",
    "def count_combinations(arr:str, code:tuple):\n",
    "    \"\"\"\n",
    "    Brute force approach.\n",
    "    It will generate a list of all possible arrangements from a given string\n",
    "    , filter it by regex match given by the code in the tuple\n",
    "    and return count of valid matching combinations.\n",
    "    \"\"\"\n",
    "    # step1 (cheap) : brute force: generate all combinations\n",
    "    combinations = [''.join(c) for c in itertools.product('#.', repeat = arr.count('?'))]\n",
    "    # incorporate them instead of ? (f-string on iterable or smth)\n",
    "    raw_strings = [arr.replace('?','{}').format(*combination) for combination in combinations]\n",
    "    # step2: expensive - filter by re.match and count valid combinations\n",
    "    # it should be + for internal # and * for the first/last .. sigh .. here goes my elegant regex\n",
    "    pattern = re.compile('^\\.*' + ''.join([f'#{{{i}}}\\.+' for i in code[:-1]]) + f'#{{{code[-1]}}}\\.*$')\n",
    "    num_comb = len([c for c in raw_strings if pattern.match(c) is not None])\n",
    "    return num_comb\n",
    "    # step 3 - apply or map this onto df"
   ]
  },
  {
   "cell_type": "code",
   "execution_count": 244,
   "metadata": {},
   "outputs": [
    {
     "data": {
      "text/plain": [
       "24"
      ]
     },
     "execution_count": 244,
     "metadata": {},
     "output_type": "execute_result"
    }
   ],
   "source": [
    "# check funciton is not buggy on one row\n",
    "count_combinations(inp[0][3], inp['tuple'][3])"
   ]
  },
  {
   "cell_type": "code",
   "execution_count": null,
   "metadata": {},
   "outputs": [
    {
     "data": {
      "text/html": [
       "<div>\n",
       "<style scoped>\n",
       "    .dataframe tbody tr th:only-of-type {\n",
       "        vertical-align: middle;\n",
       "    }\n",
       "\n",
       "    .dataframe tbody tr th {\n",
       "        vertical-align: top;\n",
       "    }\n",
       "\n",
       "    .dataframe thead th {\n",
       "        text-align: right;\n",
       "    }\n",
       "</style>\n",
       "<table border=\"1\" class=\"dataframe\">\n",
       "  <thead>\n",
       "    <tr style=\"text-align: right;\">\n",
       "      <th></th>\n",
       "      <th>0</th>\n",
       "      <th>tuple</th>\n",
       "      <th>count</th>\n",
       "    </tr>\n",
       "  </thead>\n",
       "  <tbody>\n",
       "    <tr>\n",
       "      <th>0</th>\n",
       "      <td>???.###</td>\n",
       "      <td>(1, 1, 3)</td>\n",
       "      <td>1</td>\n",
       "    </tr>\n",
       "    <tr>\n",
       "      <th>1</th>\n",
       "      <td>.??..??...?##.</td>\n",
       "      <td>(1, 1, 3)</td>\n",
       "      <td>4</td>\n",
       "    </tr>\n",
       "    <tr>\n",
       "      <th>2</th>\n",
       "      <td>?#?#?#?#?#?#?#?</td>\n",
       "      <td>(1, 3, 1, 6)</td>\n",
       "      <td>1</td>\n",
       "    </tr>\n",
       "    <tr>\n",
       "      <th>3</th>\n",
       "      <td>????.#...#...</td>\n",
       "      <td>(4, 1, 1)</td>\n",
       "      <td>1</td>\n",
       "    </tr>\n",
       "    <tr>\n",
       "      <th>4</th>\n",
       "      <td>????.######..#####.</td>\n",
       "      <td>(1, 6, 5)</td>\n",
       "      <td>4</td>\n",
       "    </tr>\n",
       "    <tr>\n",
       "      <th>5</th>\n",
       "      <td>?###????????</td>\n",
       "      <td>(3, 2, 1)</td>\n",
       "      <td>10</td>\n",
       "    </tr>\n",
       "  </tbody>\n",
       "</table>\n",
       "</div>"
      ],
      "text/plain": [
       "                     0         tuple  count\n",
       "0              ???.###     (1, 1, 3)      1\n",
       "1       .??..??...?##.     (1, 1, 3)      4\n",
       "2      ?#?#?#?#?#?#?#?  (1, 3, 1, 6)      1\n",
       "3        ????.#...#...     (4, 1, 1)      1\n",
       "4  ????.######..#####.     (1, 6, 5)      4\n",
       "5         ?###????????     (3, 2, 1)     10"
      ]
     },
     "metadata": {},
     "output_type": "display_data"
    }
   ],
   "source": [
    "# try a min example\n",
    "ex = pd.DataFrame({\n",
    "    '0':\n",
    "    ['???.###'\n",
    "    ,'.??..??...?##.'\n",
    "    ,'?#?#?#?#?#?#?#?'\n",
    "    ,'????.#...#...'\n",
    "    ,'????.######..#####.'\n",
    "    ,'?###????????'],\n",
    "    'tuple':\n",
    "        [(1,1,3)\n",
    "         ,(1,1,3)\n",
    "         ,(1,3,1,6)\n",
    "         ,(4,1,1)\n",
    "         ,(1,6,5)\n",
    "         ,(3,2,1)],\n",
    "    'count':\n",
    "        [1,4,1,1,4,10]\n",
    "\n",
    "})\n",
    "ex"
   ]
  },
  {
   "cell_type": "code",
   "execution_count": null,
   "metadata": {},
   "outputs": [
    {
     "data": {
      "text/html": [
       "<div>\n",
       "<style scoped>\n",
       "    .dataframe tbody tr th:only-of-type {\n",
       "        vertical-align: middle;\n",
       "    }\n",
       "\n",
       "    .dataframe tbody tr th {\n",
       "        vertical-align: top;\n",
       "    }\n",
       "\n",
       "    .dataframe thead th {\n",
       "        text-align: right;\n",
       "    }\n",
       "</style>\n",
       "<table border=\"1\" class=\"dataframe\">\n",
       "  <thead>\n",
       "    <tr style=\"text-align: right;\">\n",
       "      <th></th>\n",
       "      <th>0</th>\n",
       "      <th>tuple</th>\n",
       "      <th>count</th>\n",
       "      <th>count_</th>\n",
       "      <th>combinations</th>\n",
       "      <th>raw_strings</th>\n",
       "      <th>pattern</th>\n",
       "    </tr>\n",
       "  </thead>\n",
       "  <tbody>\n",
       "    <tr>\n",
       "      <th>0</th>\n",
       "      <td>???.###</td>\n",
       "      <td>(1, 1, 3)</td>\n",
       "      <td>1</td>\n",
       "      <td>1</td>\n",
       "      <td>[###, ##., #.#, #.., .##, .#., ..#, ...]</td>\n",
       "      <td>[###.###, ##..###, #.#.###, #...###, .##.###, ...</td>\n",
       "      <td>re.compile('\\\\.*#{1}\\\\.+#{1}\\\\.+#{3}\\\\.*')</td>\n",
       "    </tr>\n",
       "    <tr>\n",
       "      <th>1</th>\n",
       "      <td>.??..??...?##.</td>\n",
       "      <td>(1, 1, 3)</td>\n",
       "      <td>4</td>\n",
       "      <td>4</td>\n",
       "      <td>[#####, ####., ###.#, ###.., ##.##, ##.#., ##....</td>\n",
       "      <td>[.##..##...###., .##..##....##., .##..#....###...</td>\n",
       "      <td>re.compile('\\\\.*#{1}\\\\.+#{1}\\\\.+#{3}\\\\.*')</td>\n",
       "    </tr>\n",
       "    <tr>\n",
       "      <th>2</th>\n",
       "      <td>?#?#?#?#?#?#?#?</td>\n",
       "      <td>(1, 3, 1, 6)</td>\n",
       "      <td>1</td>\n",
       "      <td>1</td>\n",
       "      <td>[########, #######., ######.#, ######.., #####...</td>\n",
       "      <td>[###############, ##############., ###########...</td>\n",
       "      <td>re.compile('\\\\.*#{1}\\\\.+#{3}\\\\.+#{1}\\\\.+#{6}\\\\...</td>\n",
       "    </tr>\n",
       "    <tr>\n",
       "      <th>3</th>\n",
       "      <td>????.#...#...</td>\n",
       "      <td>(4, 1, 1)</td>\n",
       "      <td>1</td>\n",
       "      <td>1</td>\n",
       "      <td>[####, ###., ##.#, ##.., #.##, #.#., #..#, #.....</td>\n",
       "      <td>[####.#...#..., ###..#...#..., ##.#.#...#..., ...</td>\n",
       "      <td>re.compile('\\\\.*#{4}\\\\.+#{1}\\\\.+#{1}\\\\.*')</td>\n",
       "    </tr>\n",
       "    <tr>\n",
       "      <th>4</th>\n",
       "      <td>????.######..#####.</td>\n",
       "      <td>(1, 6, 5)</td>\n",
       "      <td>4</td>\n",
       "      <td>4</td>\n",
       "      <td>[####, ###., ##.#, ##.., #.##, #.#., #..#, #.....</td>\n",
       "      <td>[####.######..#####., ###..######..#####., ##....</td>\n",
       "      <td>re.compile('\\\\.*#{1}\\\\.+#{6}\\\\.+#{5}\\\\.*')</td>\n",
       "    </tr>\n",
       "    <tr>\n",
       "      <th>5</th>\n",
       "      <td>?###????????</td>\n",
       "      <td>(3, 2, 1)</td>\n",
       "      <td>10</td>\n",
       "      <td>26</td>\n",
       "      <td>[#########, ########., #######.#, #######.., #...</td>\n",
       "      <td>[############, ###########., ##########.#, ###...</td>\n",
       "      <td>re.compile('\\\\.*#{3}\\\\.+#{2}\\\\.+#{1}\\\\.*')</td>\n",
       "    </tr>\n",
       "  </tbody>\n",
       "</table>\n",
       "</div>"
      ],
      "text/plain": [
       "                     0         tuple  count  count_  \\\n",
       "0              ???.###     (1, 1, 3)      1       1   \n",
       "1       .??..??...?##.     (1, 1, 3)      4       4   \n",
       "2      ?#?#?#?#?#?#?#?  (1, 3, 1, 6)      1       1   \n",
       "3        ????.#...#...     (4, 1, 1)      1       1   \n",
       "4  ????.######..#####.     (1, 6, 5)      4       4   \n",
       "5         ?###????????     (3, 2, 1)     10      26   \n",
       "\n",
       "                                        combinations  \\\n",
       "0           [###, ##., #.#, #.., .##, .#., ..#, ...]   \n",
       "1  [#####, ####., ###.#, ###.., ##.##, ##.#., ##....   \n",
       "2  [########, #######., ######.#, ######.., #####...   \n",
       "3  [####, ###., ##.#, ##.., #.##, #.#., #..#, #.....   \n",
       "4  [####, ###., ##.#, ##.., #.##, #.#., #..#, #.....   \n",
       "5  [#########, ########., #######.#, #######.., #...   \n",
       "\n",
       "                                         raw_strings  \\\n",
       "0  [###.###, ##..###, #.#.###, #...###, .##.###, ...   \n",
       "1  [.##..##...###., .##..##....##., .##..#....###...   \n",
       "2  [###############, ##############., ###########...   \n",
       "3  [####.#...#..., ###..#...#..., ##.#.#...#..., ...   \n",
       "4  [####.######..#####., ###..######..#####., ##....   \n",
       "5  [############, ###########., ##########.#, ###...   \n",
       "\n",
       "                                             pattern  \n",
       "0         re.compile('\\\\.*#{1}\\\\.+#{1}\\\\.+#{3}\\\\.*')  \n",
       "1         re.compile('\\\\.*#{1}\\\\.+#{1}\\\\.+#{3}\\\\.*')  \n",
       "2  re.compile('\\\\.*#{1}\\\\.+#{3}\\\\.+#{1}\\\\.+#{6}\\\\...  \n",
       "3         re.compile('\\\\.*#{4}\\\\.+#{1}\\\\.+#{1}\\\\.*')  \n",
       "4         re.compile('\\\\.*#{1}\\\\.+#{6}\\\\.+#{5}\\\\.*')  \n",
       "5         re.compile('\\\\.*#{3}\\\\.+#{2}\\\\.+#{1}\\\\.*')  "
      ]
     },
     "metadata": {},
     "output_type": "display_data"
    }
   ],
   "source": [
    "def compile_pattern(code):\n",
    "    return re.compile('\\.*' + ''.join([f'#{{{i}}}\\.+' for i in code[:-1]]) + f'#{{{code[-1]}}}\\.*')\n",
    "\n",
    "# definitely I should not have * in my regex\n",
    "# but pluses also do not work\n",
    "# chekc which combinaitons are generated and selected? step by step\n",
    "\n",
    "ex['combinations'] = ex['0'].map(lambda arr: [''.join(c) for c in itertools.product('#.', repeat = arr.count('?'))])\n",
    "ex['raw_strings'] = ex.apply( lambda df : [df['0'].replace('?','{}').format(*combination) for combination in df['combinations']] , axis = 1)\n",
    "\n",
    "ex['pattern'] = ex['tuple'].map( compile_pattern)\n",
    "ex"
   ]
  },
  {
   "cell_type": "code",
   "execution_count": null,
   "metadata": {},
   "outputs": [
    {
     "data": {
      "text/plain": [
       "21"
      ]
     },
     "metadata": {},
     "output_type": "display_data"
    }
   ],
   "source": [
    "ex['count'].sum() #their solution"
   ]
  },
  {
   "cell_type": "code",
   "execution_count": null,
   "metadata": {},
   "outputs": [],
   "source": [
    "ex['count_'] = ex.apply(lambda x : count_combinations(x['0'], x['tuple']), axis = 1)\n"
   ]
  },
  {
   "cell_type": "code",
   "execution_count": null,
   "metadata": {},
   "outputs": [
    {
     "data": {
      "text/plain": [
       "21"
      ]
     },
     "metadata": {},
     "output_type": "display_data"
    }
   ],
   "source": [
    "ex['count_'].sum() #mine"
   ]
  },
  {
   "cell_type": "code",
   "execution_count": 248,
   "metadata": {},
   "outputs": [],
   "source": [
    "# how to apply to two columns of the df? like so (very slow of course but still in 15 sec)\n",
    "\n",
    "inp['count_'] = inp.apply(lambda x : count_combinations(x[0], x['tuple']), axis = 1)\n"
   ]
  },
  {
   "cell_type": "markdown",
   "metadata": {},
   "source": [
    "My solution:"
   ]
  },
  {
   "cell_type": "code",
   "execution_count": 249,
   "metadata": {},
   "outputs": [
    {
     "data": {
      "text/plain": [
       "7732"
      ]
     },
     "execution_count": 249,
     "metadata": {},
     "output_type": "execute_result"
    }
   ],
   "source": [
    "inp['count_'].sum() #87319 #answer is too high #20423 still too high! #needed to match regex start and end of course in addition to 0 or many . at start/end and one or more . in the middle"
   ]
  },
  {
   "cell_type": "code",
   "execution_count": null,
   "metadata": {},
   "outputs": [],
   "source": []
  },
  {
   "cell_type": "markdown",
   "metadata": {},
   "source": [
    "### day 13\n",
    "\n",
    "\n",
    "For example:\n",
    "\n",
    "```\n",
    "#.##..##.\n",
    "..#.##.#.\n",
    "##......#\n",
    "##......#\n",
    "..#.##.#.\n",
    "..##..##.\n",
    "#.#.##.#.\n",
    "\n",
    "#...##..#\n",
    "#....#..#\n",
    "..##..###\n",
    "#####.##.\n",
    "#####.##.\n",
    "..##..###\n",
    "#....#..#\n",
    "```\n",
    "\n",
    "To summarize your pattern notes, add up the number of columns to the left of each vertical line of reflection; to that, also add 100 multiplied by the number of rows above each horizontal line of reflection. In the above example, the first pattern's vertical line has 5 columns to its left and the second pattern's horizontal line has 4 rows above it, a total of 405."
   ]
  },
  {
   "cell_type": "markdown",
   "metadata": {},
   "source": [
    "So we need to find patterns in 2 dimensions.\n",
    "\n",
    "Maybe we could make an array and reshape accordingly.\n",
    "\n",
    "Luckily each block is separate so we can process them one by one.\n",
    "\n",
    "However, in the first one we can view as both vertical and horizontal reflection? Which one do we choose then? - I guess the definition is that it has to come up until one side, so we choose the greedy one."
   ]
  },
  {
   "cell_type": "code",
   "execution_count": 4,
   "metadata": {},
   "outputs": [],
   "source": [
    "# translate to 0,1 for easier visualizaiton\n",
    "mytable = str.maketrans('.#','01')\n",
    "\n",
    "blocks = []\n",
    "\n",
    "with open ('input_13','r') as f:\n",
    "    # group lines into blocks\n",
    "    block = []\n",
    "    for line in f.read().splitlines():\n",
    "        if line != '':\n",
    "            block.append([int(char) for char in list(line.translate(mytable))])\n",
    "        # start new block\n",
    "        if line == '':\n",
    "            blocks.append(np.array(block))\n",
    "            block = []\n",
    "    # add the last block\n",
    "    blocks.append(np.array(block))"
   ]
  },
  {
   "cell_type": "code",
   "execution_count": 36,
   "metadata": {},
   "outputs": [
    {
     "data": {
      "image/png": "[encoded data removed]",
      "text/plain": [
       "<Figure size 640x480 with 2 Axes>"
      ]
     },
     "metadata": {},
     "output_type": "display_data"
    }
   ],
   "source": [
    "# visualize some\n",
    "i = 10# 2 has vertical symmetry, 7 horizontal\n",
    "plt.subplot(1,2,1)\n",
    "plt.imshow(blocks[i]);\n",
    "plt.subplot(1,2,2)\n",
    "plt.imshow(np.flip(blocks[i], axis = 0)); # axis 1 is horizontal flip, 0 is vertical"
   ]
  },
  {
   "cell_type": "code",
   "execution_count": 76,
   "metadata": {},
   "outputs": [
    {
     "name": "stdout",
     "output_type": "stream",
     "text": [
      "[(13, 9), (13, 13), (9, 17), (15, 13), (7, 9), (15, 9), (15, 11), (15, 15), (13, 15), (9, 15), (15, 11), (15, 17), (11, 15), (17, 13), (15, 13), (15, 7), (17, 11), (17, 11), (13, 17), (17, 11), (11, 11), (13, 11), (11, 13), (17, 17), (9, 13), (15, 7), (13, 17), (11, 15), (7, 17), (11, 9), (7, 7), (13, 17), (17, 7), (11, 11), (13, 13), (11, 13), (15, 9), (11, 15), (9, 11), (15, 13), (9, 7), (13, 7), (13, 9), (9, 9), (9, 13), (13, 7), (17, 17), (13, 17), (7, 15), (7, 15), (15, 13), (15, 7), (15, 11), (13, 9), (15, 17), (13, 17), (9, 9), (15, 7), (17, 13), (15, 9), (13, 11), (9, 11), (11, 13), (17, 11), (7, 15), (17, 17), (17, 11), (9, 17), (9, 15), (17, 13), (17, 11), (11, 17), (15, 11), (9, 17), (11, 17), (7, 11), (7, 17), (7, 7), (17, 17), (17, 17), (17, 15), (9, 17), (7, 9), (7, 11), (7, 15), (17, 13), (17, 11), (17, 17), (15, 15), (11, 7), (11, 17), (11, 11), (11, 7), (9, 13), (13, 9), (11, 13), (11, 9), (7, 13), (15, 13), (15, 13)]\n"
     ]
    }
   ],
   "source": [
    "print([block.shape for block in blocks]) #how odd, the shapes are always odd"
   ]
  },
  {
   "cell_type": "code",
   "execution_count": 7,
   "metadata": {},
   "outputs": [
    {
     "name": "stdout",
     "output_type": "stream",
     "text": [
      "32035\n"
     ]
    }
   ],
   "source": [
    "\n",
    "def split_block(block):\n",
    "    \"\"\"\n",
    "    Input is 1 block. Block is np.array of 1 and 0 converted from # and .\n",
    "    It splits the array on each row into two equal parts and remainder\n",
    "    , mirrors one of the parts and asserts if they are reflecitons.\n",
    "    \"\"\"\n",
    "    pass\n",
    "\n",
    "answer = 0\n",
    "\n",
    "# how many per block? # actually 1 per block interestingly\n",
    "for i in range(len(blocks)):\n",
    "    # first go from top to the middle\n",
    "    nrow = blocks[i].shape[0]\n",
    "    ncol = blocks[i].shape[1]\n",
    "    # we go by rows first and then by cols\n",
    "    # start with 1 since no need for 0-size arrays\n",
    "    for j in range(1, nrow):\n",
    "        # if we are in the first half slice like this:\n",
    "        if j < nrow/2:\n",
    "            # arrays are part1, part2 and remainder\n",
    "            p1,p2,r = np.split(blocks[i], [j, j*2], axis=0)\n",
    "            # check is p2 is mirror of p1\n",
    "            # if it is true, the number of lines above it is exactly j and we need j*100\n",
    "            if np.array_equal(p1, np.flip(p2, axis = 0)):\n",
    "                answer += j*100 # 1 to count Trues\n",
    "        else:\n",
    "            # now remainder is on top and we compare bottom halves\n",
    "            r,p1,p2 = np.split(blocks[i], [j-(nrow-j), j ], axis=0)\n",
    "            if np.array_equal(p1, np.flip(p2, axis = 0)):\n",
    "                answer += j*100\n",
    "    # now go by cols\n",
    "    for j in range(1, ncol):\n",
    "        if j < ncol/2:\n",
    "            # arrays are part1, part2 and remainder now left to right\n",
    "            p1,p2,r = np.split(blocks[i], [j, j*2], axis=1)\n",
    "            # we nee dnum cols to the left which is again just j (they did it on purpose I guess)\n",
    "            if np.array_equal(p1, np.flip(p2, axis = 1)):\n",
    "                answer += j\n",
    "        else:\n",
    "            # now remainder is on left and we compare right halves\n",
    "            r,p1,p2 = np.split(blocks[i], [j-(ncol-j), j ], axis=1)\n",
    "            if np.array_equal(p1, np.flip(p2, axis = 1)):\n",
    "                answer += j\n",
    "\n",
    "print(answer)"
   ]
  },
  {
   "cell_type": "code",
   "execution_count": null,
   "metadata": {},
   "outputs": [],
   "source": [
    "# first slide a divider line along the array (e.g. top to bottom for axis 0) till half length (2 equal arrays)\n",
    "# ! handle constraint - what if we have odd number of rows?\n",
    "# assert equal array after np.flip the lesser half to find mirrors\n",
    "#\n",
    "# then repeat along the other axis\n",
    "\n",
    "#def read_data(file):\n",
    "\n",
    "#def find_mirror(block):\n"
   ]
  },
  {
   "cell_type": "code",
   "execution_count": 51,
   "metadata": {},
   "outputs": [],
   "source": [
    "# maybe try string methods first\n",
    "#def horizontal_mirror:\n",
    "    # find two of the same string\n",
    "    # run in two oposing directions\n",
    "    # return length"
   ]
  },
  {
   "cell_type": "code",
   "execution_count": null,
   "metadata": {},
   "outputs": [],
   "source": []
  }
 ],
 "metadata": {
  "kernelspec": {
   "display_name": "Python 3",
   "language": "python",
   "name": "python3"
  },
  "language_info": {
   "codemirror_mode": {
    "name": "ipython",
    "version": 3
   },
   "file_extension": ".py",
   "mimetype": "text/x-python",
   "name": "python",
   "nbconvert_exporter": "python",
   "pygments_lexer": "ipython3",
   "version": "3.10.6"
  }
 },
 "nbformat": 4,
 "nbformat_minor": 2
}
